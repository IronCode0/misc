{
 "cells": [
  {
   "cell_type": "code",
   "execution_count": 1,
   "metadata": {},
   "outputs": [],
   "source": [
    "\n",
    "from sympy import symbols, Eq, solve"
   ]
  },
  {
   "cell_type": "code",
   "execution_count": 2,
   "metadata": {},
   "outputs": [
    {
     "name": "stderr",
     "output_type": "stream",
     "text": [
      "<ipython-input-2-71c7d7b22e4a>:3: SymPyDeprecationWarning: \n",
      "\n",
      "Eq(expr) with a single argument with the right-hand side\n",
      "defaulting to 0 is deprecated. Use Eq(expr, 0) instead.\n",
      "\n",
      "See https://docs.sympy.org/latest/explanation/active-deprecations.html#deprecated-eq-expr\n",
      "for details.\n",
      "\n",
      "This has been deprecated since SymPy version 1.5. It\n",
      "will be removed in a future version of SymPy.\n",
      "\n",
      "  eq1=Eq(first[0]*pow(x,first[1]) + first[2]*pow(y,first[3]) - first[4])\n"
     ]
    },
    {
     "name": "stdout",
     "output_type": "stream",
     "text": [
      "1\n",
      "2\n"
     ]
    }
   ],
   "source": [
    "def countsolution(first, second):\n",
    "    x, y = symbols('x y')\n",
    "    eq1=Eq(first[0]*pow(x,first[1]) + first[2]*pow(y,first[3]) - first[4])\n",
    "    eq2=Eq(second[0]*pow(x,second[1]) + second[2]*pow(y,second[3]) - second[4])\n",
    "    sol = solve((eq1, eq2),(x, y))\n",
    "    if type(sol) == dict:\n",
    "        return 1\n",
    "    else:\n",
    "        return len(sol)\n",
    "\n",
    "#example\n",
    "print(countsolution([1,1,1,1,24], [2,1,-1,1,6]))\n",
    "print(countsolution([1,1,1,1,5], [1,2,1,2,17]))"
   ]
  },
  {
   "cell_type": "code",
   "execution_count": 26,
   "metadata": {},
   "outputs": [],
   "source": [
    "def growing_plant(upSpeed, downSpeed, desiredHeight):\n",
    "    day = 0\n",
    "    h = 0\n",
    "    while h <= desiredHeight:\n",
    "        h += upSpeed\n",
    "        day += 1\n",
    "        if h <  desiredHeight:\n",
    "            h -= downSpeed\n",
    "        else:\n",
    "            return day\n",
    "def _rowing_plant(upSpeed, downSpeed, desiredHeight):\n",
    "    day = int((desiredHeight)/(upSpeed-downSpeed))\n",
    "    #print(day)\n",
    "    t=desiredHeight-(day*(upSpeed-downSpeed))\n",
    "    return day if t == downSpeed else t+1"
   ]
  },
  {
   "cell_type": "code",
   "execution_count": 27,
   "metadata": {},
   "outputs": [
    {
     "name": "stdout",
     "output_type": "stream",
     "text": [
      "910\t10\t10\n",
      "1810\t20\t20\n",
      "1820\t21\t21\n",
      "1830\t21\t31\n",
      "1850\t21\t51\n",
      "1870\t21\t71\n",
      "1890\t21\t1\n",
      "2010\t23\t31\n"
     ]
    }
   ],
   "source": [
    "data = [910,1810,1820,1830,1850,1870,1890,2010]\n",
    "for t in data:\n",
    "    print(t,end=\"\\t\")\n",
    "    print(growing_plant(100,10,t),end=\"\\t\")\n",
    "    print(_rowing_plant(100,10,t),end=\"\\n\")\n"
   ]
  },
  {
   "cell_type": "code",
   "execution_count": 5,
   "metadata": {},
   "outputs": [
    {
     "name": "stdout",
     "output_type": "stream",
     "text": [
      "[1, 3, 5, 7, 9]\n",
      "[1, 2, 3, 5, 6, 7, 9, 10]\n",
      "{1, 2, 3, 5, 6, 7, 9, 10}\n"
     ]
    }
   ],
   "source": [
    "a=[]\n",
    "b=[]\n",
    "for i in range(1,11):\n",
    "    if i%2:\n",
    "        a.append(i)\n",
    "\n",
    "for i in range(1,11):\n",
    "    if i%4:\n",
    "        b.append(i)\n",
    "\n",
    "print(a)\n",
    "print(b)\n",
    "a=set(a)\n",
    "b=set(b)\n",
    "a.update(b)\n",
    "print(a)\n",
    "\n",
    "\n"
   ]
  },
  {
   "cell_type": "code",
   "execution_count": null,
   "metadata": {},
   "outputs": [],
   "source": []
  }
 ],
 "metadata": {
  "kernelspec": {
   "display_name": "Python 3.9.9 64-bit",
   "language": "python",
   "name": "python3"
  },
  "language_info": {
   "codemirror_mode": {
    "name": "ipython",
    "version": 3
   },
   "file_extension": ".py",
   "mimetype": "text/x-python",
   "name": "python",
   "nbconvert_exporter": "python",
   "pygments_lexer": "ipython3",
   "version": "3.9.9"
  },
  "orig_nbformat": 4,
  "vscode": {
   "interpreter": {
    "hash": "5fe27231fe2ef1d38017a65482f94e9b5209ec85932d25724d84ecd1b3a19fa4"
   }
  }
 },
 "nbformat": 4,
 "nbformat_minor": 2
}
